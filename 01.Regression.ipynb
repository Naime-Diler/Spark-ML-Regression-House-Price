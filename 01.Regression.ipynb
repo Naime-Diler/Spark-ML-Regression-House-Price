{
 "cells": [
  {
   "cell_type": "markdown",
   "id": "497e443b",
   "metadata": {},
   "source": [
    "# Spark Machine Learning - Regression: HOUSE PRICE"
   ]
  },
  {
   "cell_type": "markdown",
   "id": "61a57d72",
   "metadata": {},
   "source": [
    "In diesem Projekt wird Spark ML für eine Regressionsanalyse zur Vorhersage von Immobilienpreisen eingesetzt."
   ]
  },
  {
   "cell_type": "markdown",
   "id": "12e3c9b2",
   "metadata": {},
   "source": [
    "## Read Data "
   ]
  },
  {
   "cell_type": "markdown",
   "id": "4771b73e",
   "metadata": {},
   "source": [
    "Überprüfung des Vorhandenseins unseres Datensatzes auf HDFS:"
   ]
  },
  {
   "cell_type": "code",
   "execution_count": 1,
   "id": "b4925b64",
   "metadata": {},
   "outputs": [
    {
     "name": "stdout",
     "output_type": "stream",
     "text": [
      "Found 5 items\n",
      "-rw-r--r--   1 train supergroup       4556 2020-09-23 20:56 /user/train/datasets/Advertising.csv\n",
      "drwxr-xr-x   - train supergroup          0 2020-11-19 21:02 /user/train/datasets/churn-telecom\n",
      "-rw-r--r--   1 train supergroup   19589922 2022-06-07 20:09 /user/train/datasets/flo100k.csv\n",
      "drwxr-xr-x   - train supergroup          0 2022-06-12 20:10 /user/train/datasets/house-prices\n",
      "drwxr-xr-x   - train supergroup          0 2020-11-21 11:16 /user/train/datasets/retail_db\n"
     ]
    }
   ],
   "source": [
    "! hdfs dfs -ls /user/train/datasets"
   ]
  },
  {
   "cell_type": "markdown",
   "id": "4f89764a",
   "metadata": {},
   "source": [
    "Hochladen des Datensatzes auf HDFS, falls nicht vorhanden:"
   ]
  },
  {
   "cell_type": "code",
   "execution_count": 2,
   "id": "a688e1dd",
   "metadata": {},
   "outputs": [
    {
     "name": "stdout",
     "output_type": "stream",
     "text": [
      "put: `/user/train/datasets/house-prices/data_description.txt': File exists\n",
      "put: `/user/train/datasets/house-prices/sample_submission.csv': File exists\n",
      "put: `/user/train/datasets/house-prices/test.csv': File exists\n",
      "put: `/user/train/datasets/house-prices/train.csv': File exists\n"
     ]
    }
   ],
   "source": [
    "! hdfs dfs -put /home/train/datasets/house-prices/ /user/train/datasets"
   ]
  },
  {
   "cell_type": "markdown",
   "id": "8040e859",
   "metadata": {},
   "source": [
    "Bibliotheken importieren und Spark aufbauen:"
   ]
  },
  {
   "cell_type": "code",
   "execution_count": 3,
   "id": "514964db",
   "metadata": {},
   "outputs": [],
   "source": [
    "import findspark"
   ]
  },
  {
   "cell_type": "code",
   "execution_count": 4,
   "id": "d2724e23",
   "metadata": {},
   "outputs": [],
   "source": [
    "findspark.init(\"/opt/manual/spark\")\n",
    "\n",
    "# Dieser Code initialisiert die `findspark`-Bibliothek und legt den Pfad zur Spark-Installation fest, damit Spark \n",
    "# von Python aus gefunden und verwendet werden kann."
   ]
  },
  {
   "cell_type": "code",
   "execution_count": 5,
   "id": "bd42a585",
   "metadata": {},
   "outputs": [],
   "source": [
    "from pyspark.sql import SparkSession, functions as F\n",
    "import pandas as pd"
   ]
  },
  {
   "cell_type": "markdown",
   "id": "90ed7506",
   "metadata": {},
   "source": [
    "Erstellen und Konfigurieren einer SparkSession:"
   ]
  },
  {
   "cell_type": "code",
   "execution_count": 6,
   "id": "5849a88e",
   "metadata": {},
   "outputs": [
    {
     "name": "stderr",
     "output_type": "stream",
     "text": [
      "WARNING: An illegal reflective access operation has occurred\n",
      "WARNING: Illegal reflective access by org.apache.spark.unsafe.Platform (file:/opt/manual/spark-3.1.1-bin-hadoop3.2/jars/spark-unsafe_2.12-3.1.1.jar) to constructor java.nio.DirectByteBuffer(long,int)\n",
      "WARNING: Please consider reporting this to the maintainers of org.apache.spark.unsafe.Platform\n",
      "WARNING: Use --illegal-access=warn to enable warnings of further illegal reflective access operations\n",
      "WARNING: All illegal access operations will be denied in a future release\n",
      "2022-06-12 22:40:49,050 WARN util.NativeCodeLoader: Unable to load native-hadoop library for your platform... using builtin-java classes where applicable\n",
      "Setting default log level to \"WARN\".\n",
      "To adjust logging level use sc.setLogLevel(newLevel). For SparkR, use setLogLevel(newLevel).\n",
      "2022-06-12 22:40:50,627 WARN yarn.Client: Neither spark.yarn.jars nor spark.yarn.archive is set, falling back to uploading libraries under SPARK_HOME.\n"
     ]
    }
   ],
   "source": [
    "spark= (\n",
    "SparkSession.builder\n",
    "    .appName(\"House Price Regression\")\n",
    "    .master(\"yarn\")\n",
    "    .config(\"spark.sql.shuffle.partitions\",\"2\")\n",
    "    .getOrCreate()\n",
    ")"
   ]
  },
  {
   "cell_type": "markdown",
   "id": "f3a17aa7",
   "metadata": {},
   "source": [
    "Einlesen der CSV-Datei in ein DataFrame:"
   ]
  },
  {
   "cell_type": "code",
   "execution_count": 7,
   "id": "0e8967fd",
   "metadata": {},
   "outputs": [
    {
     "name": "stderr",
     "output_type": "stream",
     "text": [
      "                                                                                \r"
     ]
    }
   ],
   "source": [
    "df = (spark.read.format(\"csv\")\n",
    "      .option(\"header\",True)\n",
    "      .option(\"inferSchema\",True)\n",
    "      .load(\"/user/train/datasets/house-prices/train.csv\")\n",
    "     )"
   ]
  },
  {
   "cell_type": "markdown",
   "id": "7965f4db",
   "metadata": {},
   "source": [
    "## Data Explore"
   ]
  },
  {
   "cell_type": "markdown",
   "id": "b7f849f0",
   "metadata": {},
   "source": [
    "DataFrame im Speicher halten:"
   ]
  },
  {
   "cell_type": "code",
   "execution_count": 8,
   "id": "974cc4b2",
   "metadata": {},
   "outputs": [
    {
     "name": "stderr",
     "output_type": "stream",
     "text": [
      "2022-06-12 22:41:15,989 WARN util.package: Truncated the string representation of a plan since it was too large. This behavior can be adjusted by setting 'spark.sql.debug.maxToStringFields'.\n"
     ]
    },
    {
     "data": {
      "text/plain": [
       "DataFrame[Id: int, MSSubClass: int, MSZoning: string, LotFrontage: string, LotArea: int, Street: string, Alley: string, LotShape: string, LandContour: string, Utilities: string, LotConfig: string, LandSlope: string, Neighborhood: string, Condition1: string, Condition2: string, BldgType: string, HouseStyle: string, OverallQual: int, OverallCond: int, YearBuilt: int, YearRemodAdd: int, RoofStyle: string, RoofMatl: string, Exterior1st: string, Exterior2nd: string, MasVnrType: string, MasVnrArea: string, ExterQual: string, ExterCond: string, Foundation: string, BsmtQual: string, BsmtCond: string, BsmtExposure: string, BsmtFinType1: string, BsmtFinSF1: int, BsmtFinType2: string, BsmtFinSF2: int, BsmtUnfSF: int, TotalBsmtSF: int, Heating: string, HeatingQC: string, CentralAir: string, Electrical: string, 1stFlrSF: int, 2ndFlrSF: int, LowQualFinSF: int, GrLivArea: int, BsmtFullBath: int, BsmtHalfBath: int, FullBath: int, HalfBath: int, BedroomAbvGr: int, KitchenAbvGr: int, KitchenQual: string, TotRmsAbvGrd: int, Functional: string, Fireplaces: int, FireplaceQu: string, GarageType: string, GarageYrBlt: string, GarageFinish: string, GarageCars: int, GarageArea: int, GarageQual: string, GarageCond: string, PavedDrive: string, WoodDeckSF: int, OpenPorchSF: int, EnclosedPorch: int, 3SsnPorch: int, ScreenPorch: int, PoolArea: int, PoolQC: string, Fence: string, MiscFeature: string, MiscVal: int, MoSold: int, YrSold: int, SaleType: string, SaleCondition: string, SalePrice: int]"
      ]
     },
     "execution_count": 8,
     "metadata": {},
     "output_type": "execute_result"
    }
   ],
   "source": [
    "df.persist()"
   ]
  },
  {
   "cell_type": "markdown",
   "id": "0faa231b",
   "metadata": {},
   "source": [
    "## Schemaüberprüfung"
   ]
  },
  {
   "cell_type": "code",
   "execution_count": 14,
   "id": "55d85427",
   "metadata": {},
   "outputs": [],
   "source": [
    "df_count = df.count()"
   ]
  },
  {
   "cell_type": "code",
   "execution_count": 15,
   "id": "31bbebc1",
   "metadata": {},
   "outputs": [
    {
     "name": "stdout",
     "output_type": "stream",
     "text": [
      "1460\n"
     ]
    }
   ],
   "source": [
    "print(df_count)"
   ]
  },
  {
   "cell_type": "code",
   "execution_count": 16,
   "id": "364a8412",
   "metadata": {},
   "outputs": [
    {
     "name": "stdout",
     "output_type": "stream",
     "text": [
      "81\n"
     ]
    }
   ],
   "source": [
    "print(len(df.columns))"
   ]
  },
  {
   "cell_type": "code",
   "execution_count": 17,
   "id": "4171e745",
   "metadata": {},
   "outputs": [],
   "source": [
    "pd.set_option('display.max_columns', None)\n",
    "pd.set_option('display.max_rows', None)"
   ]
  },
  {
   "cell_type": "code",
   "execution_count": 18,
   "id": "66570e88",
   "metadata": {},
   "outputs": [
    {
     "data": {
      "text/html": [
       "<div>\n",
       "<style scoped>\n",
       "    .dataframe tbody tr th:only-of-type {\n",
       "        vertical-align: middle;\n",
       "    }\n",
       "\n",
       "    .dataframe tbody tr th {\n",
       "        vertical-align: top;\n",
       "    }\n",
       "\n",
       "    .dataframe thead th {\n",
       "        text-align: right;\n",
       "    }\n",
       "</style>\n",
       "<table border=\"1\" class=\"dataframe\">\n",
       "  <thead>\n",
       "    <tr style=\"text-align: right;\">\n",
       "      <th></th>\n",
       "      <th>Id</th>\n",
       "      <th>MSSubClass</th>\n",
       "      <th>MSZoning</th>\n",
       "      <th>LotFrontage</th>\n",
       "      <th>LotArea</th>\n",
       "      <th>Street</th>\n",
       "      <th>Alley</th>\n",
       "      <th>LotShape</th>\n",
       "      <th>LandContour</th>\n",
       "      <th>Utilities</th>\n",
       "      <th>LotConfig</th>\n",
       "      <th>LandSlope</th>\n",
       "      <th>Neighborhood</th>\n",
       "      <th>Condition1</th>\n",
       "      <th>Condition2</th>\n",
       "      <th>BldgType</th>\n",
       "      <th>HouseStyle</th>\n",
       "      <th>OverallQual</th>\n",
       "      <th>OverallCond</th>\n",
       "      <th>YearBuilt</th>\n",
       "      <th>YearRemodAdd</th>\n",
       "      <th>RoofStyle</th>\n",
       "      <th>RoofMatl</th>\n",
       "      <th>Exterior1st</th>\n",
       "      <th>Exterior2nd</th>\n",
       "      <th>MasVnrType</th>\n",
       "      <th>MasVnrArea</th>\n",
       "      <th>ExterQual</th>\n",
       "      <th>ExterCond</th>\n",
       "      <th>Foundation</th>\n",
       "      <th>BsmtQual</th>\n",
       "      <th>BsmtCond</th>\n",
       "      <th>BsmtExposure</th>\n",
       "      <th>BsmtFinType1</th>\n",
       "      <th>BsmtFinSF1</th>\n",
       "      <th>BsmtFinType2</th>\n",
       "      <th>BsmtFinSF2</th>\n",
       "      <th>BsmtUnfSF</th>\n",
       "      <th>TotalBsmtSF</th>\n",
       "      <th>Heating</th>\n",
       "      <th>HeatingQC</th>\n",
       "      <th>CentralAir</th>\n",
       "      <th>Electrical</th>\n",
       "      <th>1stFlrSF</th>\n",
       "      <th>2ndFlrSF</th>\n",
       "      <th>LowQualFinSF</th>\n",
       "      <th>GrLivArea</th>\n",
       "      <th>BsmtFullBath</th>\n",
       "      <th>BsmtHalfBath</th>\n",
       "      <th>FullBath</th>\n",
       "      <th>HalfBath</th>\n",
       "      <th>BedroomAbvGr</th>\n",
       "      <th>KitchenAbvGr</th>\n",
       "      <th>KitchenQual</th>\n",
       "      <th>TotRmsAbvGrd</th>\n",
       "      <th>Functional</th>\n",
       "      <th>Fireplaces</th>\n",
       "      <th>FireplaceQu</th>\n",
       "      <th>GarageType</th>\n",
       "      <th>GarageYrBlt</th>\n",
       "      <th>GarageFinish</th>\n",
       "      <th>GarageCars</th>\n",
       "      <th>GarageArea</th>\n",
       "      <th>GarageQual</th>\n",
       "      <th>GarageCond</th>\n",
       "      <th>PavedDrive</th>\n",
       "      <th>WoodDeckSF</th>\n",
       "      <th>OpenPorchSF</th>\n",
       "      <th>EnclosedPorch</th>\n",
       "      <th>3SsnPorch</th>\n",
       "      <th>ScreenPorch</th>\n",
       "      <th>PoolArea</th>\n",
       "      <th>PoolQC</th>\n",
       "      <th>Fence</th>\n",
       "      <th>MiscFeature</th>\n",
       "      <th>MiscVal</th>\n",
       "      <th>MoSold</th>\n",
       "      <th>YrSold</th>\n",
       "      <th>SaleType</th>\n",
       "      <th>SaleCondition</th>\n",
       "      <th>SalePrice</th>\n",
       "    </tr>\n",
       "  </thead>\n",
       "  <tbody>\n",
       "    <tr>\n",
       "      <th>0</th>\n",
       "      <td>1</td>\n",
       "      <td>60</td>\n",
       "      <td>RL</td>\n",
       "      <td>65</td>\n",
       "      <td>8450</td>\n",
       "      <td>Pave</td>\n",
       "      <td>NA</td>\n",
       "      <td>Reg</td>\n",
       "      <td>Lvl</td>\n",
       "      <td>AllPub</td>\n",
       "      <td>Inside</td>\n",
       "      <td>Gtl</td>\n",
       "      <td>CollgCr</td>\n",
       "      <td>Norm</td>\n",
       "      <td>Norm</td>\n",
       "      <td>1Fam</td>\n",
       "      <td>2Story</td>\n",
       "      <td>7</td>\n",
       "      <td>5</td>\n",
       "      <td>2003</td>\n",
       "      <td>2003</td>\n",
       "      <td>Gable</td>\n",
       "      <td>CompShg</td>\n",
       "      <td>VinylSd</td>\n",
       "      <td>VinylSd</td>\n",
       "      <td>BrkFace</td>\n",
       "      <td>196</td>\n",
       "      <td>Gd</td>\n",
       "      <td>TA</td>\n",
       "      <td>PConc</td>\n",
       "      <td>Gd</td>\n",
       "      <td>TA</td>\n",
       "      <td>No</td>\n",
       "      <td>GLQ</td>\n",
       "      <td>706</td>\n",
       "      <td>Unf</td>\n",
       "      <td>0</td>\n",
       "      <td>150</td>\n",
       "      <td>856</td>\n",
       "      <td>GasA</td>\n",
       "      <td>Ex</td>\n",
       "      <td>Y</td>\n",
       "      <td>SBrkr</td>\n",
       "      <td>856</td>\n",
       "      <td>854</td>\n",
       "      <td>0</td>\n",
       "      <td>1710</td>\n",
       "      <td>1</td>\n",
       "      <td>0</td>\n",
       "      <td>2</td>\n",
       "      <td>1</td>\n",
       "      <td>3</td>\n",
       "      <td>1</td>\n",
       "      <td>Gd</td>\n",
       "      <td>8</td>\n",
       "      <td>Typ</td>\n",
       "      <td>0</td>\n",
       "      <td>NA</td>\n",
       "      <td>Attchd</td>\n",
       "      <td>2003</td>\n",
       "      <td>RFn</td>\n",
       "      <td>2</td>\n",
       "      <td>548</td>\n",
       "      <td>TA</td>\n",
       "      <td>TA</td>\n",
       "      <td>Y</td>\n",
       "      <td>0</td>\n",
       "      <td>61</td>\n",
       "      <td>0</td>\n",
       "      <td>0</td>\n",
       "      <td>0</td>\n",
       "      <td>0</td>\n",
       "      <td>NA</td>\n",
       "      <td>NA</td>\n",
       "      <td>NA</td>\n",
       "      <td>0</td>\n",
       "      <td>2</td>\n",
       "      <td>2008</td>\n",
       "      <td>WD</td>\n",
       "      <td>Normal</td>\n",
       "      <td>208500</td>\n",
       "    </tr>\n",
       "    <tr>\n",
       "      <th>1</th>\n",
       "      <td>2</td>\n",
       "      <td>20</td>\n",
       "      <td>RL</td>\n",
       "      <td>80</td>\n",
       "      <td>9600</td>\n",
       "      <td>Pave</td>\n",
       "      <td>NA</td>\n",
       "      <td>Reg</td>\n",
       "      <td>Lvl</td>\n",
       "      <td>AllPub</td>\n",
       "      <td>FR2</td>\n",
       "      <td>Gtl</td>\n",
       "      <td>Veenker</td>\n",
       "      <td>Feedr</td>\n",
       "      <td>Norm</td>\n",
       "      <td>1Fam</td>\n",
       "      <td>1Story</td>\n",
       "      <td>6</td>\n",
       "      <td>8</td>\n",
       "      <td>1976</td>\n",
       "      <td>1976</td>\n",
       "      <td>Gable</td>\n",
       "      <td>CompShg</td>\n",
       "      <td>MetalSd</td>\n",
       "      <td>MetalSd</td>\n",
       "      <td>None</td>\n",
       "      <td>0</td>\n",
       "      <td>TA</td>\n",
       "      <td>TA</td>\n",
       "      <td>CBlock</td>\n",
       "      <td>Gd</td>\n",
       "      <td>TA</td>\n",
       "      <td>Gd</td>\n",
       "      <td>ALQ</td>\n",
       "      <td>978</td>\n",
       "      <td>Unf</td>\n",
       "      <td>0</td>\n",
       "      <td>284</td>\n",
       "      <td>1262</td>\n",
       "      <td>GasA</td>\n",
       "      <td>Ex</td>\n",
       "      <td>Y</td>\n",
       "      <td>SBrkr</td>\n",
       "      <td>1262</td>\n",
       "      <td>0</td>\n",
       "      <td>0</td>\n",
       "      <td>1262</td>\n",
       "      <td>0</td>\n",
       "      <td>1</td>\n",
       "      <td>2</td>\n",
       "      <td>0</td>\n",
       "      <td>3</td>\n",
       "      <td>1</td>\n",
       "      <td>TA</td>\n",
       "      <td>6</td>\n",
       "      <td>Typ</td>\n",
       "      <td>1</td>\n",
       "      <td>TA</td>\n",
       "      <td>Attchd</td>\n",
       "      <td>1976</td>\n",
       "      <td>RFn</td>\n",
       "      <td>2</td>\n",
       "      <td>460</td>\n",
       "      <td>TA</td>\n",
       "      <td>TA</td>\n",
       "      <td>Y</td>\n",
       "      <td>298</td>\n",
       "      <td>0</td>\n",
       "      <td>0</td>\n",
       "      <td>0</td>\n",
       "      <td>0</td>\n",
       "      <td>0</td>\n",
       "      <td>NA</td>\n",
       "      <td>NA</td>\n",
       "      <td>NA</td>\n",
       "      <td>0</td>\n",
       "      <td>5</td>\n",
       "      <td>2007</td>\n",
       "      <td>WD</td>\n",
       "      <td>Normal</td>\n",
       "      <td>181500</td>\n",
       "    </tr>\n",
       "    <tr>\n",
       "      <th>2</th>\n",
       "      <td>3</td>\n",
       "      <td>60</td>\n",
       "      <td>RL</td>\n",
       "      <td>68</td>\n",
       "      <td>11250</td>\n",
       "      <td>Pave</td>\n",
       "      <td>NA</td>\n",
       "      <td>IR1</td>\n",
       "      <td>Lvl</td>\n",
       "      <td>AllPub</td>\n",
       "      <td>Inside</td>\n",
       "      <td>Gtl</td>\n",
       "      <td>CollgCr</td>\n",
       "      <td>Norm</td>\n",
       "      <td>Norm</td>\n",
       "      <td>1Fam</td>\n",
       "      <td>2Story</td>\n",
       "      <td>7</td>\n",
       "      <td>5</td>\n",
       "      <td>2001</td>\n",
       "      <td>2002</td>\n",
       "      <td>Gable</td>\n",
       "      <td>CompShg</td>\n",
       "      <td>VinylSd</td>\n",
       "      <td>VinylSd</td>\n",
       "      <td>BrkFace</td>\n",
       "      <td>162</td>\n",
       "      <td>Gd</td>\n",
       "      <td>TA</td>\n",
       "      <td>PConc</td>\n",
       "      <td>Gd</td>\n",
       "      <td>TA</td>\n",
       "      <td>Mn</td>\n",
       "      <td>GLQ</td>\n",
       "      <td>486</td>\n",
       "      <td>Unf</td>\n",
       "      <td>0</td>\n",
       "      <td>434</td>\n",
       "      <td>920</td>\n",
       "      <td>GasA</td>\n",
       "      <td>Ex</td>\n",
       "      <td>Y</td>\n",
       "      <td>SBrkr</td>\n",
       "      <td>920</td>\n",
       "      <td>866</td>\n",
       "      <td>0</td>\n",
       "      <td>1786</td>\n",
       "      <td>1</td>\n",
       "      <td>0</td>\n",
       "      <td>2</td>\n",
       "      <td>1</td>\n",
       "      <td>3</td>\n",
       "      <td>1</td>\n",
       "      <td>Gd</td>\n",
       "      <td>6</td>\n",
       "      <td>Typ</td>\n",
       "      <td>1</td>\n",
       "      <td>TA</td>\n",
       "      <td>Attchd</td>\n",
       "      <td>2001</td>\n",
       "      <td>RFn</td>\n",
       "      <td>2</td>\n",
       "      <td>608</td>\n",
       "      <td>TA</td>\n",
       "      <td>TA</td>\n",
       "      <td>Y</td>\n",
       "      <td>0</td>\n",
       "      <td>42</td>\n",
       "      <td>0</td>\n",
       "      <td>0</td>\n",
       "      <td>0</td>\n",
       "      <td>0</td>\n",
       "      <td>NA</td>\n",
       "      <td>NA</td>\n",
       "      <td>NA</td>\n",
       "      <td>0</td>\n",
       "      <td>9</td>\n",
       "      <td>2008</td>\n",
       "      <td>WD</td>\n",
       "      <td>Normal</td>\n",
       "      <td>223500</td>\n",
       "    </tr>\n",
       "    <tr>\n",
       "      <th>3</th>\n",
       "      <td>4</td>\n",
       "      <td>70</td>\n",
       "      <td>RL</td>\n",
       "      <td>60</td>\n",
       "      <td>9550</td>\n",
       "      <td>Pave</td>\n",
       "      <td>NA</td>\n",
       "      <td>IR1</td>\n",
       "      <td>Lvl</td>\n",
       "      <td>AllPub</td>\n",
       "      <td>Corner</td>\n",
       "      <td>Gtl</td>\n",
       "      <td>Crawfor</td>\n",
       "      <td>Norm</td>\n",
       "      <td>Norm</td>\n",
       "      <td>1Fam</td>\n",
       "      <td>2Story</td>\n",
       "      <td>7</td>\n",
       "      <td>5</td>\n",
       "      <td>1915</td>\n",
       "      <td>1970</td>\n",
       "      <td>Gable</td>\n",
       "      <td>CompShg</td>\n",
       "      <td>Wd Sdng</td>\n",
       "      <td>Wd Shng</td>\n",
       "      <td>None</td>\n",
       "      <td>0</td>\n",
       "      <td>TA</td>\n",
       "      <td>TA</td>\n",
       "      <td>BrkTil</td>\n",
       "      <td>TA</td>\n",
       "      <td>Gd</td>\n",
       "      <td>No</td>\n",
       "      <td>ALQ</td>\n",
       "      <td>216</td>\n",
       "      <td>Unf</td>\n",
       "      <td>0</td>\n",
       "      <td>540</td>\n",
       "      <td>756</td>\n",
       "      <td>GasA</td>\n",
       "      <td>Gd</td>\n",
       "      <td>Y</td>\n",
       "      <td>SBrkr</td>\n",
       "      <td>961</td>\n",
       "      <td>756</td>\n",
       "      <td>0</td>\n",
       "      <td>1717</td>\n",
       "      <td>1</td>\n",
       "      <td>0</td>\n",
       "      <td>1</td>\n",
       "      <td>0</td>\n",
       "      <td>3</td>\n",
       "      <td>1</td>\n",
       "      <td>Gd</td>\n",
       "      <td>7</td>\n",
       "      <td>Typ</td>\n",
       "      <td>1</td>\n",
       "      <td>Gd</td>\n",
       "      <td>Detchd</td>\n",
       "      <td>1998</td>\n",
       "      <td>Unf</td>\n",
       "      <td>3</td>\n",
       "      <td>642</td>\n",
       "      <td>TA</td>\n",
       "      <td>TA</td>\n",
       "      <td>Y</td>\n",
       "      <td>0</td>\n",
       "      <td>35</td>\n",
       "      <td>272</td>\n",
       "      <td>0</td>\n",
       "      <td>0</td>\n",
       "      <td>0</td>\n",
       "      <td>NA</td>\n",
       "      <td>NA</td>\n",
       "      <td>NA</td>\n",
       "      <td>0</td>\n",
       "      <td>2</td>\n",
       "      <td>2006</td>\n",
       "      <td>WD</td>\n",
       "      <td>Abnorml</td>\n",
       "      <td>140000</td>\n",
       "    </tr>\n",
       "    <tr>\n",
       "      <th>4</th>\n",
       "      <td>5</td>\n",
       "      <td>60</td>\n",
       "      <td>RL</td>\n",
       "      <td>84</td>\n",
       "      <td>14260</td>\n",
       "      <td>Pave</td>\n",
       "      <td>NA</td>\n",
       "      <td>IR1</td>\n",
       "      <td>Lvl</td>\n",
       "      <td>AllPub</td>\n",
       "      <td>FR2</td>\n",
       "      <td>Gtl</td>\n",
       "      <td>NoRidge</td>\n",
       "      <td>Norm</td>\n",
       "      <td>Norm</td>\n",
       "      <td>1Fam</td>\n",
       "      <td>2Story</td>\n",
       "      <td>8</td>\n",
       "      <td>5</td>\n",
       "      <td>2000</td>\n",
       "      <td>2000</td>\n",
       "      <td>Gable</td>\n",
       "      <td>CompShg</td>\n",
       "      <td>VinylSd</td>\n",
       "      <td>VinylSd</td>\n",
       "      <td>BrkFace</td>\n",
       "      <td>350</td>\n",
       "      <td>Gd</td>\n",
       "      <td>TA</td>\n",
       "      <td>PConc</td>\n",
       "      <td>Gd</td>\n",
       "      <td>TA</td>\n",
       "      <td>Av</td>\n",
       "      <td>GLQ</td>\n",
       "      <td>655</td>\n",
       "      <td>Unf</td>\n",
       "      <td>0</td>\n",
       "      <td>490</td>\n",
       "      <td>1145</td>\n",
       "      <td>GasA</td>\n",
       "      <td>Ex</td>\n",
       "      <td>Y</td>\n",
       "      <td>SBrkr</td>\n",
       "      <td>1145</td>\n",
       "      <td>1053</td>\n",
       "      <td>0</td>\n",
       "      <td>2198</td>\n",
       "      <td>1</td>\n",
       "      <td>0</td>\n",
       "      <td>2</td>\n",
       "      <td>1</td>\n",
       "      <td>4</td>\n",
       "      <td>1</td>\n",
       "      <td>Gd</td>\n",
       "      <td>9</td>\n",
       "      <td>Typ</td>\n",
       "      <td>1</td>\n",
       "      <td>TA</td>\n",
       "      <td>Attchd</td>\n",
       "      <td>2000</td>\n",
       "      <td>RFn</td>\n",
       "      <td>3</td>\n",
       "      <td>836</td>\n",
       "      <td>TA</td>\n",
       "      <td>TA</td>\n",
       "      <td>Y</td>\n",
       "      <td>192</td>\n",
       "      <td>84</td>\n",
       "      <td>0</td>\n",
       "      <td>0</td>\n",
       "      <td>0</td>\n",
       "      <td>0</td>\n",
       "      <td>NA</td>\n",
       "      <td>NA</td>\n",
       "      <td>NA</td>\n",
       "      <td>0</td>\n",
       "      <td>12</td>\n",
       "      <td>2008</td>\n",
       "      <td>WD</td>\n",
       "      <td>Normal</td>\n",
       "      <td>250000</td>\n",
       "    </tr>\n",
       "  </tbody>\n",
       "</table>\n",
       "</div>"
      ],
      "text/plain": [
       "   Id  MSSubClass MSZoning LotFrontage  LotArea Street Alley LotShape  \\\n",
       "0   1          60       RL          65     8450   Pave    NA      Reg   \n",
       "1   2          20       RL          80     9600   Pave    NA      Reg   \n",
       "2   3          60       RL          68    11250   Pave    NA      IR1   \n",
       "3   4          70       RL          60     9550   Pave    NA      IR1   \n",
       "4   5          60       RL          84    14260   Pave    NA      IR1   \n",
       "\n",
       "  LandContour Utilities LotConfig LandSlope Neighborhood Condition1  \\\n",
       "0         Lvl    AllPub    Inside       Gtl      CollgCr       Norm   \n",
       "1         Lvl    AllPub       FR2       Gtl      Veenker      Feedr   \n",
       "2         Lvl    AllPub    Inside       Gtl      CollgCr       Norm   \n",
       "3         Lvl    AllPub    Corner       Gtl      Crawfor       Norm   \n",
       "4         Lvl    AllPub       FR2       Gtl      NoRidge       Norm   \n",
       "\n",
       "  Condition2 BldgType HouseStyle  OverallQual  OverallCond  YearBuilt  \\\n",
       "0       Norm     1Fam     2Story            7            5       2003   \n",
       "1       Norm     1Fam     1Story            6            8       1976   \n",
       "2       Norm     1Fam     2Story            7            5       2001   \n",
       "3       Norm     1Fam     2Story            7            5       1915   \n",
       "4       Norm     1Fam     2Story            8            5       2000   \n",
       "\n",
       "   YearRemodAdd RoofStyle RoofMatl Exterior1st Exterior2nd MasVnrType  \\\n",
       "0          2003     Gable  CompShg     VinylSd     VinylSd    BrkFace   \n",
       "1          1976     Gable  CompShg     MetalSd     MetalSd       None   \n",
       "2          2002     Gable  CompShg     VinylSd     VinylSd    BrkFace   \n",
       "3          1970     Gable  CompShg     Wd Sdng     Wd Shng       None   \n",
       "4          2000     Gable  CompShg     VinylSd     VinylSd    BrkFace   \n",
       "\n",
       "  MasVnrArea ExterQual ExterCond Foundation BsmtQual BsmtCond BsmtExposure  \\\n",
       "0        196        Gd        TA      PConc       Gd       TA           No   \n",
       "1          0        TA        TA     CBlock       Gd       TA           Gd   \n",
       "2        162        Gd        TA      PConc       Gd       TA           Mn   \n",
       "3          0        TA        TA     BrkTil       TA       Gd           No   \n",
       "4        350        Gd        TA      PConc       Gd       TA           Av   \n",
       "\n",
       "  BsmtFinType1  BsmtFinSF1 BsmtFinType2  BsmtFinSF2  BsmtUnfSF  TotalBsmtSF  \\\n",
       "0          GLQ         706          Unf           0        150          856   \n",
       "1          ALQ         978          Unf           0        284         1262   \n",
       "2          GLQ         486          Unf           0        434          920   \n",
       "3          ALQ         216          Unf           0        540          756   \n",
       "4          GLQ         655          Unf           0        490         1145   \n",
       "\n",
       "  Heating HeatingQC CentralAir Electrical  1stFlrSF  2ndFlrSF  LowQualFinSF  \\\n",
       "0    GasA        Ex          Y      SBrkr       856       854             0   \n",
       "1    GasA        Ex          Y      SBrkr      1262         0             0   \n",
       "2    GasA        Ex          Y      SBrkr       920       866             0   \n",
       "3    GasA        Gd          Y      SBrkr       961       756             0   \n",
       "4    GasA        Ex          Y      SBrkr      1145      1053             0   \n",
       "\n",
       "   GrLivArea  BsmtFullBath  BsmtHalfBath  FullBath  HalfBath  BedroomAbvGr  \\\n",
       "0       1710             1             0         2         1             3   \n",
       "1       1262             0             1         2         0             3   \n",
       "2       1786             1             0         2         1             3   \n",
       "3       1717             1             0         1         0             3   \n",
       "4       2198             1             0         2         1             4   \n",
       "\n",
       "   KitchenAbvGr KitchenQual  TotRmsAbvGrd Functional  Fireplaces FireplaceQu  \\\n",
       "0             1          Gd             8        Typ           0          NA   \n",
       "1             1          TA             6        Typ           1          TA   \n",
       "2             1          Gd             6        Typ           1          TA   \n",
       "3             1          Gd             7        Typ           1          Gd   \n",
       "4             1          Gd             9        Typ           1          TA   \n",
       "\n",
       "  GarageType GarageYrBlt GarageFinish  GarageCars  GarageArea GarageQual  \\\n",
       "0     Attchd        2003          RFn           2         548         TA   \n",
       "1     Attchd        1976          RFn           2         460         TA   \n",
       "2     Attchd        2001          RFn           2         608         TA   \n",
       "3     Detchd        1998          Unf           3         642         TA   \n",
       "4     Attchd        2000          RFn           3         836         TA   \n",
       "\n",
       "  GarageCond PavedDrive  WoodDeckSF  OpenPorchSF  EnclosedPorch  3SsnPorch  \\\n",
       "0         TA          Y           0           61              0          0   \n",
       "1         TA          Y         298            0              0          0   \n",
       "2         TA          Y           0           42              0          0   \n",
       "3         TA          Y           0           35            272          0   \n",
       "4         TA          Y         192           84              0          0   \n",
       "\n",
       "   ScreenPorch  PoolArea PoolQC Fence MiscFeature  MiscVal  MoSold  YrSold  \\\n",
       "0            0         0     NA    NA          NA        0       2    2008   \n",
       "1            0         0     NA    NA          NA        0       5    2007   \n",
       "2            0         0     NA    NA          NA        0       9    2008   \n",
       "3            0         0     NA    NA          NA        0       2    2006   \n",
       "4            0         0     NA    NA          NA        0      12    2008   \n",
       "\n",
       "  SaleType SaleCondition  SalePrice  \n",
       "0       WD        Normal     208500  \n",
       "1       WD        Normal     181500  \n",
       "2       WD        Normal     223500  \n",
       "3       WD       Abnorml     140000  \n",
       "4       WD        Normal     250000  "
      ]
     },
     "execution_count": 18,
     "metadata": {},
     "output_type": "execute_result"
    }
   ],
   "source": [
    "df.limit(5).toPandas()"
   ]
  },
  {
   "cell_type": "code",
   "execution_count": 19,
   "id": "bb1e458d",
   "metadata": {},
   "outputs": [
    {
     "name": "stdout",
     "output_type": "stream",
     "text": [
      "root\n",
      " |-- Id: integer (nullable = true)\n",
      " |-- MSSubClass: integer (nullable = true)\n",
      " |-- MSZoning: string (nullable = true)\n",
      " |-- LotFrontage: string (nullable = true)\n",
      " |-- LotArea: integer (nullable = true)\n",
      " |-- Street: string (nullable = true)\n",
      " |-- Alley: string (nullable = true)\n",
      " |-- LotShape: string (nullable = true)\n",
      " |-- LandContour: string (nullable = true)\n",
      " |-- Utilities: string (nullable = true)\n",
      " |-- LotConfig: string (nullable = true)\n",
      " |-- LandSlope: string (nullable = true)\n",
      " |-- Neighborhood: string (nullable = true)\n",
      " |-- Condition1: string (nullable = true)\n",
      " |-- Condition2: string (nullable = true)\n",
      " |-- BldgType: string (nullable = true)\n",
      " |-- HouseStyle: string (nullable = true)\n",
      " |-- OverallQual: integer (nullable = true)\n",
      " |-- OverallCond: integer (nullable = true)\n",
      " |-- YearBuilt: integer (nullable = true)\n",
      " |-- YearRemodAdd: integer (nullable = true)\n",
      " |-- RoofStyle: string (nullable = true)\n",
      " |-- RoofMatl: string (nullable = true)\n",
      " |-- Exterior1st: string (nullable = true)\n",
      " |-- Exterior2nd: string (nullable = true)\n",
      " |-- MasVnrType: string (nullable = true)\n",
      " |-- MasVnrArea: string (nullable = true)\n",
      " |-- ExterQual: string (nullable = true)\n",
      " |-- ExterCond: string (nullable = true)\n",
      " |-- Foundation: string (nullable = true)\n",
      " |-- BsmtQual: string (nullable = true)\n",
      " |-- BsmtCond: string (nullable = true)\n",
      " |-- BsmtExposure: string (nullable = true)\n",
      " |-- BsmtFinType1: string (nullable = true)\n",
      " |-- BsmtFinSF1: integer (nullable = true)\n",
      " |-- BsmtFinType2: string (nullable = true)\n",
      " |-- BsmtFinSF2: integer (nullable = true)\n",
      " |-- BsmtUnfSF: integer (nullable = true)\n",
      " |-- TotalBsmtSF: integer (nullable = true)\n",
      " |-- Heating: string (nullable = true)\n",
      " |-- HeatingQC: string (nullable = true)\n",
      " |-- CentralAir: string (nullable = true)\n",
      " |-- Electrical: string (nullable = true)\n",
      " |-- 1stFlrSF: integer (nullable = true)\n",
      " |-- 2ndFlrSF: integer (nullable = true)\n",
      " |-- LowQualFinSF: integer (nullable = true)\n",
      " |-- GrLivArea: integer (nullable = true)\n",
      " |-- BsmtFullBath: integer (nullable = true)\n",
      " |-- BsmtHalfBath: integer (nullable = true)\n",
      " |-- FullBath: integer (nullable = true)\n",
      " |-- HalfBath: integer (nullable = true)\n",
      " |-- BedroomAbvGr: integer (nullable = true)\n",
      " |-- KitchenAbvGr: integer (nullable = true)\n",
      " |-- KitchenQual: string (nullable = true)\n",
      " |-- TotRmsAbvGrd: integer (nullable = true)\n",
      " |-- Functional: string (nullable = true)\n",
      " |-- Fireplaces: integer (nullable = true)\n",
      " |-- FireplaceQu: string (nullable = true)\n",
      " |-- GarageType: string (nullable = true)\n",
      " |-- GarageYrBlt: string (nullable = true)\n",
      " |-- GarageFinish: string (nullable = true)\n",
      " |-- GarageCars: integer (nullable = true)\n",
      " |-- GarageArea: integer (nullable = true)\n",
      " |-- GarageQual: string (nullable = true)\n",
      " |-- GarageCond: string (nullable = true)\n",
      " |-- PavedDrive: string (nullable = true)\n",
      " |-- WoodDeckSF: integer (nullable = true)\n",
      " |-- OpenPorchSF: integer (nullable = true)\n",
      " |-- EnclosedPorch: integer (nullable = true)\n",
      " |-- 3SsnPorch: integer (nullable = true)\n",
      " |-- ScreenPorch: integer (nullable = true)\n",
      " |-- PoolArea: integer (nullable = true)\n",
      " |-- PoolQC: string (nullable = true)\n",
      " |-- Fence: string (nullable = true)\n",
      " |-- MiscFeature: string (nullable = true)\n",
      " |-- MiscVal: integer (nullable = true)\n",
      " |-- MoSold: integer (nullable = true)\n",
      " |-- YrSold: integer (nullable = true)\n",
      " |-- SaleType: string (nullable = true)\n",
      " |-- SaleCondition: string (nullable = true)\n",
      " |-- SalePrice: integer (nullable = true)\n",
      "\n"
     ]
    }
   ],
   "source": [
    "df.printSchema()"
   ]
  },
  {
   "cell_type": "markdown",
   "id": "68f43efd",
   "metadata": {},
   "source": [
    "Alternativer Weg zur Anzeige des Schemas:"
   ]
  },
  {
   "cell_type": "code",
   "execution_count": 20,
   "id": "a298f4f6",
   "metadata": {},
   "outputs": [
    {
     "data": {
      "text/plain": [
       "[('Id', 'int'),\n",
       " ('MSSubClass', 'int'),\n",
       " ('MSZoning', 'string'),\n",
       " ('LotFrontage', 'string'),\n",
       " ('LotArea', 'int'),\n",
       " ('Street', 'string'),\n",
       " ('Alley', 'string'),\n",
       " ('LotShape', 'string'),\n",
       " ('LandContour', 'string'),\n",
       " ('Utilities', 'string'),\n",
       " ('LotConfig', 'string'),\n",
       " ('LandSlope', 'string'),\n",
       " ('Neighborhood', 'string'),\n",
       " ('Condition1', 'string'),\n",
       " ('Condition2', 'string'),\n",
       " ('BldgType', 'string'),\n",
       " ('HouseStyle', 'string'),\n",
       " ('OverallQual', 'int'),\n",
       " ('OverallCond', 'int'),\n",
       " ('YearBuilt', 'int'),\n",
       " ('YearRemodAdd', 'int'),\n",
       " ('RoofStyle', 'string'),\n",
       " ('RoofMatl', 'string'),\n",
       " ('Exterior1st', 'string'),\n",
       " ('Exterior2nd', 'string'),\n",
       " ('MasVnrType', 'string'),\n",
       " ('MasVnrArea', 'string'),\n",
       " ('ExterQual', 'string'),\n",
       " ('ExterCond', 'string'),\n",
       " ('Foundation', 'string'),\n",
       " ('BsmtQual', 'string'),\n",
       " ('BsmtCond', 'string'),\n",
       " ('BsmtExposure', 'string'),\n",
       " ('BsmtFinType1', 'string'),\n",
       " ('BsmtFinSF1', 'int'),\n",
       " ('BsmtFinType2', 'string'),\n",
       " ('BsmtFinSF2', 'int'),\n",
       " ('BsmtUnfSF', 'int'),\n",
       " ('TotalBsmtSF', 'int'),\n",
       " ('Heating', 'string'),\n",
       " ('HeatingQC', 'string'),\n",
       " ('CentralAir', 'string'),\n",
       " ('Electrical', 'string'),\n",
       " ('1stFlrSF', 'int'),\n",
       " ('2ndFlrSF', 'int'),\n",
       " ('LowQualFinSF', 'int'),\n",
       " ('GrLivArea', 'int'),\n",
       " ('BsmtFullBath', 'int'),\n",
       " ('BsmtHalfBath', 'int'),\n",
       " ('FullBath', 'int'),\n",
       " ('HalfBath', 'int'),\n",
       " ('BedroomAbvGr', 'int'),\n",
       " ('KitchenAbvGr', 'int'),\n",
       " ('KitchenQual', 'string'),\n",
       " ('TotRmsAbvGrd', 'int'),\n",
       " ('Functional', 'string'),\n",
       " ('Fireplaces', 'int'),\n",
       " ('FireplaceQu', 'string'),\n",
       " ('GarageType', 'string'),\n",
       " ('GarageYrBlt', 'string'),\n",
       " ('GarageFinish', 'string'),\n",
       " ('GarageCars', 'int'),\n",
       " ('GarageArea', 'int'),\n",
       " ('GarageQual', 'string'),\n",
       " ('GarageCond', 'string'),\n",
       " ('PavedDrive', 'string'),\n",
       " ('WoodDeckSF', 'int'),\n",
       " ('OpenPorchSF', 'int'),\n",
       " ('EnclosedPorch', 'int'),\n",
       " ('3SsnPorch', 'int'),\n",
       " ('ScreenPorch', 'int'),\n",
       " ('PoolArea', 'int'),\n",
       " ('PoolQC', 'string'),\n",
       " ('Fence', 'string'),\n",
       " ('MiscFeature', 'string'),\n",
       " ('MiscVal', 'int'),\n",
       " ('MoSold', 'int'),\n",
       " ('YrSold', 'int'),\n",
       " ('SaleType', 'string'),\n",
       " ('SaleCondition', 'string'),\n",
       " ('SalePrice', 'int')]"
      ]
     },
     "execution_count": 20,
     "metadata": {},
     "output_type": "execute_result"
    }
   ],
   "source": [
    "df.dtypes"
   ]
  },
  {
   "cell_type": "markdown",
   "id": "39737320",
   "metadata": {},
   "source": [
    "'LotFrontage', 'string') --> int \n",
    "\n",
    "('MasVnrArea', 'string') --> int\n",
    "\n",
    "('GarageYrBlt', 'string') --> int\n",
    "\n",
    "\n",
    "Diese Spalten sollten Ganzzahlen enthalten, wurden jedoch von Spark aufgrund von 'NA'-Werten als Strings interpretiert.\n",
    "\n",
    "Der folgende Code ermöglicht es, zu überprüfen, ob diese Spalten NA-Werte enthalten:"
   ]
  },
  {
   "cell_type": "markdown",
   "id": "dbfdcfb0",
   "metadata": {},
   "source": [
    "## Schemaanpassungen"
   ]
  },
  {
   "cell_type": "markdown",
   "id": "dd0813b2",
   "metadata": {},
   "source": [
    "Filterung der Spalte MasVnrArea zur Anzeige fehlender Werte:"
   ]
  },
  {
   "cell_type": "code",
   "execution_count": 21,
   "id": "f7e34826",
   "metadata": {},
   "outputs": [
    {
     "name": "stdout",
     "output_type": "stream",
     "text": [
      "+----------+\n",
      "|MasVnrArea|\n",
      "+----------+\n",
      "|        NA|\n",
      "|        NA|\n",
      "|        NA|\n",
      "|        NA|\n",
      "|        NA|\n",
      "|        NA|\n",
      "|        NA|\n",
      "|        NA|\n",
      "+----------+\n",
      "\n"
     ]
    }
   ],
   "source": [
    "df.select('MasVnrArea').filter(\"MasVnrArea == 'NA'\").show()"
   ]
  },
  {
   "cell_type": "code",
   "execution_count": 22,
   "id": "0980bbb2",
   "metadata": {},
   "outputs": [
    {
     "name": "stdout",
     "output_type": "stream",
     "text": [
      "+-----------+\n",
      "|GarageYrBlt|\n",
      "+-----------+\n",
      "|         NA|\n",
      "|         NA|\n",
      "|         NA|\n",
      "|         NA|\n",
      "|         NA|\n",
      "|         NA|\n",
      "|         NA|\n",
      "|         NA|\n",
      "|         NA|\n",
      "|         NA|\n",
      "|         NA|\n",
      "|         NA|\n",
      "|         NA|\n",
      "|         NA|\n",
      "|         NA|\n",
      "|         NA|\n",
      "|         NA|\n",
      "|         NA|\n",
      "|         NA|\n",
      "|         NA|\n",
      "+-----------+\n",
      "only showing top 20 rows\n",
      "\n"
     ]
    }
   ],
   "source": [
    "df.select('GarageYrBlt').filter(\"GarageYrBlt == 'NA'\").show()"
   ]
  },
  {
   "cell_type": "markdown",
   "id": "7dd4cb5c",
   "metadata": {},
   "source": [
    "## Cast mis-iferred dtypes"
   ]
  },
  {
   "cell_type": "code",
   "execution_count": 23,
   "id": "e1d758a1",
   "metadata": {},
   "outputs": [
    {
     "name": "stdout",
     "output_type": "stream",
     "text": [
      "+--------------------------------+\n",
      "|avg(CAST(LotFrontage AS DOUBLE))|\n",
      "+--------------------------------+\n",
      "|               70.04995836802665|\n",
      "+--------------------------------+\n",
      "\n"
     ]
    }
   ],
   "source": [
    "df.selectExpr(\"AVG(LotFrontage)\").show()"
   ]
  },
  {
   "cell_type": "code",
   "execution_count": 24,
   "id": "56c05a13",
   "metadata": {},
   "outputs": [
    {
     "name": "stdout",
     "output_type": "stream",
     "text": [
      "+-------------------------------+\n",
      "|avg(CAST(MasVnrArea AS DOUBLE))|\n",
      "+-------------------------------+\n",
      "|             103.68526170798899|\n",
      "+-------------------------------+\n",
      "\n"
     ]
    }
   ],
   "source": [
    "df.selectExpr(\"AVG(MasVnrArea)\").show()"
   ]
  },
  {
   "cell_type": "code",
   "execution_count": 25,
   "id": "30ba83e3",
   "metadata": {},
   "outputs": [
    {
     "name": "stdout",
     "output_type": "stream",
     "text": [
      "+--------------------------------+\n",
      "|avg(CAST(GarageYrBlt AS DOUBLE))|\n",
      "+--------------------------------+\n",
      "|              1978.5061638868744|\n",
      "+--------------------------------+\n",
      "\n"
     ]
    }
   ],
   "source": [
    "df.selectExpr(\"AVG(GarageYrBlt)\").show()"
   ]
  },
  {
   "cell_type": "markdown",
   "id": "6c23a35d",
   "metadata": {},
   "source": [
    "Fehlende Werte durch Standardwerte ersetzen und Spalten in Ganzzahlen konvertieren:"
   ]
  },
  {
   "cell_type": "code",
   "execution_count": 26,
   "id": "e4da1393",
   "metadata": {},
   "outputs": [],
   "source": [
    "df1 = df.withColumn(\"LotFrontage\", F.when(F.col(\"LotFrontage\") == 'NA', 70).otherwise(F.col(\"LotFrontage\"))) \\\n",
    "         .withColumn(\"LotFrontage\", F.col(\"LotFrontage\").cast(\"int\")) \\\n",
    "        .withColumn(\"MasVnrArea\", F.when(F.col(\"MasVnrArea\") == 'NA', 104).otherwise(F.col(\"MasVnrArea\"))) \\\n",
    "         .withColumn(\"MasVnrArea\", F.col(\"MasVnrArea\").cast(\"int\")) \\\n",
    "        .withColumn(\"GarageYrBlt\", F.when(F.col(\"GarageYrBlt\") == 'NA', 1978).otherwise(F.col(\"GarageYrBlt\"))) \\\n",
    "         .withColumn(\"GarageYrBlt\", F.col(\"GarageYrBlt\").cast(\"int\"))"
   ]
  },
  {
   "cell_type": "code",
   "execution_count": 27,
   "id": "c1c2321c",
   "metadata": {},
   "outputs": [
    {
     "name": "stdout",
     "output_type": "stream",
     "text": [
      "root\n",
      " |-- LotFrontage: string (nullable = true)\n",
      " |-- MasVnrArea: string (nullable = true)\n",
      " |-- GarageYrBlt: string (nullable = true)\n",
      "\n"
     ]
    }
   ],
   "source": [
    "df.select(\"LotFrontage\", \"MasVnrArea\", \"GarageYrBlt\").printSchema()\n"
   ]
  },
  {
   "cell_type": "code",
   "execution_count": 28,
   "id": "8b1086f7",
   "metadata": {},
   "outputs": [
    {
     "name": "stdout",
     "output_type": "stream",
     "text": [
      "root\n",
      " |-- LotFrontage: integer (nullable = true)\n",
      " |-- MasVnrArea: integer (nullable = true)\n",
      " |-- GarageYrBlt: integer (nullable = true)\n",
      "\n"
     ]
    }
   ],
   "source": [
    "df1.select(\"LotFrontage\", \"MasVnrArea\", \"GarageYrBlt\").printSchema()"
   ]
  },
  {
   "cell_type": "markdown",
   "id": "f67d52fa",
   "metadata": {},
   "source": [
    "Die Anpassungen sind abgeschlossen, die Umwandlung der Spalten in Ganzzahlen wurde erfolgreich durchgeführt und die Schemafehler wurden behoben."
   ]
  },
  {
   "cell_type": "markdown",
   "id": "1d8a9356",
   "metadata": {},
   "source": [
    "## Behandlung fehlender Werte"
   ]
  },
  {
   "cell_type": "markdown",
   "id": "bb48f3e0",
   "metadata": {},
   "source": [
    "### Null Check"
   ]
  },
  {
   "cell_type": "markdown",
   "id": "0beab140",
   "metadata": {},
   "source": [
    "Manuelle Abfrage:"
   ]
  },
  {
   "cell_type": "code",
   "execution_count": 29,
   "id": "44eb82d3",
   "metadata": {},
   "outputs": [
    {
     "name": "stdout",
     "output_type": "stream",
     "text": [
      "+-----------+\n",
      "|FireplaceQu|\n",
      "+-----------+\n",
      "|         NA|\n",
      "|         NA|\n",
      "|         NA|\n",
      "|         NA|\n",
      "|         NA|\n",
      "|         NA|\n",
      "|         NA|\n",
      "|         NA|\n",
      "|         NA|\n",
      "|         NA|\n",
      "|         NA|\n",
      "|         NA|\n",
      "|         NA|\n",
      "|         NA|\n",
      "|         NA|\n",
      "|         NA|\n",
      "|         NA|\n",
      "|         NA|\n",
      "|         NA|\n",
      "|         NA|\n",
      "+-----------+\n",
      "only showing top 20 rows\n",
      "\n"
     ]
    }
   ],
   "source": [
    "df1.select(\"FireplaceQu\").filter(F.col(\"FireplaceQu\") == \"NA\").show()"
   ]
  },
  {
   "cell_type": "markdown",
   "id": "ada8887f",
   "metadata": {},
   "source": [
    "Funktion zur Zählung fehlender Werte:"
   ]
  },
  {
   "cell_type": "code",
   "execution_count": 30,
   "id": "a30f462f",
   "metadata": {},
   "outputs": [],
   "source": [
    "def null_count(df, col_name):\n",
    "    nc = df1.select(col_name).filter( \n",
    "        (F.col(col_name) == \"NA\") |\n",
    "        (F.col(col_name) == \"\") |\n",
    "        (F.col(col_name).isNull())\n",
    "                                 ).count()\n",
    "    return nc"
   ]
  },
  {
   "cell_type": "code",
   "execution_count": 31,
   "id": "90d11428",
   "metadata": {},
   "outputs": [
    {
     "name": "stdout",
     "output_type": "stream",
     "text": [
      "690\n"
     ]
    }
   ],
   "source": [
    "nnn_cc = null_count(df1, \"FireplaceQu\")\n",
    "print(nnn_cc)"
   ]
  },
  {
   "cell_type": "code",
   "execution_count": 32,
   "id": "9ce6dbfb",
   "metadata": {},
   "outputs": [
    {
     "name": "stdout",
     "output_type": "stream",
     "text": [
      "0\n"
     ]
    }
   ],
   "source": [
    "nnn_cc = null_count(df1, \"LotFrontage\")\n",
    "print(nnn_cc)"
   ]
  },
  {
   "cell_type": "markdown",
   "id": "77a28f66",
   "metadata": {},
   "source": [
    "Batch-Überprüfung aller Spalten:"
   ]
  },
  {
   "cell_type": "code",
   "execution_count": 33,
   "id": "d341d25a",
   "metadata": {},
   "outputs": [
    {
     "name": "stdout",
     "output_type": "stream",
     "text": [
      "Alley has 1369.\n",
      "MasVnrType has 8.\n",
      "BsmtQual has 37.\n",
      "BsmtCond has 37.\n",
      "BsmtExposure has 38.\n",
      "BsmtFinType1 has 37.\n",
      "BsmtFinType2 has 38.\n",
      "Electrical has 1.\n",
      "FireplaceQu has 690.\n",
      "GarageType has 81.\n",
      "GarageFinish has 81.\n",
      "GarageQual has 81.\n",
      "GarageCond has 81.\n",
      "PoolQC has 1453.\n",
      "Fence has 1179.\n",
      "MiscFeature has 1406.\n"
     ]
    }
   ],
   "source": [
    "for col_name in df1.dtypes:\n",
    "    nc = null_count(df1, col_name[0])\n",
    "\n",
    "    if nc > 0:\n",
    "        print(\"{} has {}.\".format(col_name[0], nc))"
   ]
  },
  {
   "cell_type": "code",
   "execution_count": 34,
   "id": "d175c16f",
   "metadata": {},
   "outputs": [
    {
     "name": "stdout",
     "output_type": "stream",
     "text": [
      "Alley has 1369 % 93.76712328767123\n",
      "MasVnrType has 8 % 0.547945205479452\n",
      "BsmtQual has 37 % 2.5342465753424657\n",
      "BsmtCond has 37 % 2.5342465753424657\n",
      "BsmtExposure has 38 % 2.6027397260273974\n",
      "BsmtFinType1 has 37 % 2.5342465753424657\n",
      "BsmtFinType2 has 38 % 2.6027397260273974\n",
      "Electrical has 1 % 0.0684931506849315\n",
      "FireplaceQu has 690 % 47.26027397260274\n",
      "GarageType has 81 % 5.5479452054794525\n",
      "GarageFinish has 81 % 5.5479452054794525\n",
      "GarageQual has 81 % 5.5479452054794525\n",
      "GarageCond has 81 % 5.5479452054794525\n",
      "PoolQC has 1453 % 99.52054794520548\n",
      "Fence has 1179 % 80.75342465753424\n",
      "MiscFeature has 1406 % 96.30136986301369\n"
     ]
    }
   ],
   "source": [
    "for col_name in df1.dtypes:\n",
    "    nc = null_count(df1, col_name[0])\n",
    "\n",
    "    if nc > 0:\n",
    "        print(\"{} has {} % {}\".format(col_name[0], nc, (nc/df_count)*100))\n"
   ]
  },
  {
   "cell_type": "markdown",
   "id": "f68eb419",
   "metadata": {},
   "source": [
    "## Gruppierung von Attributen nach Datentypen"
   ]
  },
  {
   "cell_type": "markdown",
   "id": "fbc97272",
   "metadata": {},
   "source": [
    "### Group Columns"
   ]
  },
  {
   "cell_type": "code",
   "execution_count": 35,
   "id": "9ba4810e",
   "metadata": {},
   "outputs": [],
   "source": [
    "categoric_cols = []\n",
    "\n",
    "numeric_cols = []\n",
    "\n",
    "label_col = ['SalePrice']\n",
    "\n",
    "discarted_cols = ['Id', 'Alley', 'FireplaceQu', 'PoolQC', 'Fence', 'MiscFeature', 'Utilities', 'Condition2', 'RoofMatl', 'Heating']\n",
    "\n",
    "# Alley, FireplaceQu, PoolQC, Fence, MiscFeature enthalten zu viele fehlende Werte.\n",
    "# Id hat zu viele Kategorien.\n",
    "# Utilities, Condition2, RoofMatl, Heating enthalten schwache Kategorien und binäre Werte und sollten daher verworfen werden.\n"
   ]
  },
  {
   "cell_type": "code",
   "execution_count": 36,
   "id": "afb9ef2b",
   "metadata": {},
   "outputs": [],
   "source": [
    "for col_name in df1.dtypes:\n",
    "    if (col_name[0] not in label_col + discarted_cols):\n",
    "        if col_name[1] == 'string':\n",
    "            categoric_cols.append(col_name[0])\n",
    "        else:\n",
    "            numeric_cols.append(col_name[0])\n"
   ]
  },
  {
   "cell_type": "code",
   "execution_count": 37,
   "id": "12197362",
   "metadata": {},
   "outputs": [
    {
     "name": "stdout",
     "output_type": "stream",
     "text": [
      "['MSZoning', 'Street', 'LotShape', 'LandContour', 'LotConfig', 'LandSlope', 'Neighborhood', 'Condition1', 'BldgType', 'HouseStyle', 'RoofStyle', 'Exterior1st', 'Exterior2nd', 'MasVnrType', 'ExterQual', 'ExterCond', 'Foundation', 'BsmtQual', 'BsmtCond', 'BsmtExposure', 'BsmtFinType1', 'BsmtFinType2', 'HeatingQC', 'CentralAir', 'Electrical', 'KitchenQual', 'Functional', 'GarageType', 'GarageFinish', 'GarageQual', 'GarageCond', 'PavedDrive', 'SaleType', 'SaleCondition']\n",
      "34\n"
     ]
    }
   ],
   "source": [
    "print(categoric_cols)\n",
    "print(len(categoric_cols))"
   ]
  },
  {
   "cell_type": "code",
   "execution_count": 38,
   "id": "6fe9a2c0",
   "metadata": {},
   "outputs": [
    {
     "name": "stdout",
     "output_type": "stream",
     "text": [
      "['MSSubClass', 'LotFrontage', 'LotArea', 'OverallQual', 'OverallCond', 'YearBuilt', 'YearRemodAdd', 'MasVnrArea', 'BsmtFinSF1', 'BsmtFinSF2', 'BsmtUnfSF', 'TotalBsmtSF', '1stFlrSF', '2ndFlrSF', 'LowQualFinSF', 'GrLivArea', 'BsmtFullBath', 'BsmtHalfBath', 'FullBath', 'HalfBath', 'BedroomAbvGr', 'KitchenAbvGr', 'TotRmsAbvGrd', 'Fireplaces', 'GarageYrBlt', 'GarageCars', 'GarageArea', 'WoodDeckSF', 'OpenPorchSF', 'EnclosedPorch', '3SsnPorch', 'ScreenPorch', 'PoolArea', 'MiscVal', 'MoSold', 'YrSold']\n",
      "36\n"
     ]
    }
   ],
   "source": [
    "print(numeric_cols)\n",
    "print(len(numeric_cols))"
   ]
  },
  {
   "cell_type": "code",
   "execution_count": 39,
   "id": "2552dcd3",
   "metadata": {},
   "outputs": [
    {
     "name": "stdout",
     "output_type": "stream",
     "text": [
      "['Id', 'Alley', 'FireplaceQu', 'PoolQC', 'Fence', 'MiscFeature', 'Utilities', 'Condition2', 'RoofMatl', 'Heating']\n",
      "10\n"
     ]
    }
   ],
   "source": [
    "print(discarted_cols)\n",
    "print(len(discarted_cols))"
   ]
  },
  {
   "cell_type": "code",
   "execution_count": 40,
   "id": "8463d076",
   "metadata": {},
   "outputs": [
    {
     "name": "stdout",
     "output_type": "stream",
     "text": [
      "['SalePrice']\n",
      "1\n"
     ]
    }
   ],
   "source": [
    "print(label_col)\n",
    "print(len(label_col))"
   ]
  },
  {
   "cell_type": "markdown",
   "id": "b020e882",
   "metadata": {},
   "source": [
    "### Column Check"
   ]
  },
  {
   "cell_type": "code",
   "execution_count": 41,
   "id": "efe5c695",
   "metadata": {},
   "outputs": [
    {
     "data": {
      "text/plain": [
       "True"
      ]
     },
     "execution_count": 41,
     "metadata": {},
     "output_type": "execute_result"
    }
   ],
   "source": [
    "len(df1.columns) == (len(label_col) + len(discarted_cols) + len(numeric_cols) + len(categoric_cols))"
   ]
  },
  {
   "cell_type": "code",
   "execution_count": 42,
   "id": "543b4c99",
   "metadata": {},
   "outputs": [
    {
     "name": "stdout",
     "output_type": "stream",
     "text": [
      "column check is True\n"
     ]
    }
   ],
   "source": [
    "if(len(df1.columns) == len(label_col) + len(discarted_cols) + len(numeric_cols) + len(categoric_cols)):\n",
    "    print(\"column check is True\")\n",
    "else: print(\"there is problem for column check\")\n",
    " "
   ]
  },
  {
   "cell_type": "markdown",
   "id": "e3addccc",
   "metadata": {},
   "source": [
    "## Untersuchung kategorialer Attribute"
   ]
  },
  {
   "cell_type": "markdown",
   "id": "db7f81f6",
   "metadata": {},
   "source": [
    "### Examine categoricals"
   ]
  },
  {
   "cell_type": "code",
   "execution_count": 43,
   "id": "85257588",
   "metadata": {},
   "outputs": [
    {
     "name": "stdout",
     "output_type": "stream",
     "text": [
      "MSZoning\n",
      "+--------+-----+\n",
      "|MSZoning|count|\n",
      "+--------+-----+\n",
      "|      RL| 1151|\n",
      "|      RM|  218|\n",
      "|      FV|   65|\n",
      "|      RH|   16|\n",
      "| C (all)|   10|\n",
      "+--------+-----+\n",
      "\n",
      "Street\n",
      "+------+-----+\n",
      "|Street|count|\n",
      "+------+-----+\n",
      "|  Pave| 1454|\n",
      "|  Grvl|    6|\n",
      "+------+-----+\n",
      "\n",
      "LotShape\n",
      "+--------+-----+\n",
      "|LotShape|count|\n",
      "+--------+-----+\n",
      "|     Reg|  925|\n",
      "|     IR1|  484|\n",
      "|     IR2|   41|\n",
      "|     IR3|   10|\n",
      "+--------+-----+\n",
      "\n",
      "LandContour\n",
      "+-----------+-----+\n",
      "|LandContour|count|\n",
      "+-----------+-----+\n",
      "|        Lvl| 1311|\n",
      "|        Bnk|   63|\n",
      "|        HLS|   50|\n",
      "|        Low|   36|\n",
      "+-----------+-----+\n",
      "\n",
      "LotConfig\n",
      "+---------+-----+\n",
      "|LotConfig|count|\n",
      "+---------+-----+\n",
      "|   Inside| 1052|\n",
      "|   Corner|  263|\n",
      "|  CulDSac|   94|\n",
      "|      FR2|   47|\n",
      "|      FR3|    4|\n",
      "+---------+-----+\n",
      "\n",
      "LandSlope\n",
      "+---------+-----+\n",
      "|LandSlope|count|\n",
      "+---------+-----+\n",
      "|      Gtl| 1382|\n",
      "|      Mod|   65|\n",
      "|      Sev|   13|\n",
      "+---------+-----+\n",
      "\n",
      "Neighborhood\n",
      "+------------+-----+\n",
      "|Neighborhood|count|\n",
      "+------------+-----+\n",
      "|       NAmes|  225|\n",
      "|     CollgCr|  150|\n",
      "|     OldTown|  113|\n",
      "|     Edwards|  100|\n",
      "|     Somerst|   86|\n",
      "|     Gilbert|   79|\n",
      "|     NridgHt|   77|\n",
      "|      Sawyer|   74|\n",
      "|      NWAmes|   73|\n",
      "|     SawyerW|   59|\n",
      "|     BrkSide|   58|\n",
      "|     Crawfor|   51|\n",
      "|     Mitchel|   49|\n",
      "|     NoRidge|   41|\n",
      "|      Timber|   38|\n",
      "|      IDOTRR|   37|\n",
      "|     ClearCr|   28|\n",
      "|     StoneBr|   25|\n",
      "|       SWISU|   25|\n",
      "|     MeadowV|   17|\n",
      "+------------+-----+\n",
      "only showing top 20 rows\n",
      "\n",
      "Condition1\n",
      "+----------+-----+\n",
      "|Condition1|count|\n",
      "+----------+-----+\n",
      "|      Norm| 1260|\n",
      "|     Feedr|   81|\n",
      "|    Artery|   48|\n",
      "|      RRAn|   26|\n",
      "|      PosN|   19|\n",
      "|      RRAe|   11|\n",
      "|      PosA|    8|\n",
      "|      RRNn|    5|\n",
      "|      RRNe|    2|\n",
      "+----------+-----+\n",
      "\n",
      "BldgType\n",
      "+--------+-----+\n",
      "|BldgType|count|\n",
      "+--------+-----+\n",
      "|    1Fam| 1220|\n",
      "|  TwnhsE|  114|\n",
      "|  Duplex|   52|\n",
      "|   Twnhs|   43|\n",
      "|  2fmCon|   31|\n",
      "+--------+-----+\n",
      "\n",
      "HouseStyle\n",
      "+----------+-----+\n",
      "|HouseStyle|count|\n",
      "+----------+-----+\n",
      "|    1Story|  726|\n",
      "|    2Story|  445|\n",
      "|    1.5Fin|  154|\n",
      "|      SLvl|   65|\n",
      "|    SFoyer|   37|\n",
      "|    1.5Unf|   14|\n",
      "|    2.5Unf|   11|\n",
      "|    2.5Fin|    8|\n",
      "+----------+-----+\n",
      "\n",
      "RoofStyle\n",
      "+---------+-----+\n",
      "|RoofStyle|count|\n",
      "+---------+-----+\n",
      "|    Gable| 1141|\n",
      "|      Hip|  286|\n",
      "|     Flat|   13|\n",
      "|  Gambrel|   11|\n",
      "|  Mansard|    7|\n",
      "|     Shed|    2|\n",
      "+---------+-----+\n",
      "\n",
      "Exterior1st\n",
      "+-----------+-----+\n",
      "|Exterior1st|count|\n",
      "+-----------+-----+\n",
      "|    VinylSd|  515|\n",
      "|    HdBoard|  222|\n",
      "|    MetalSd|  220|\n",
      "|    Wd Sdng|  206|\n",
      "|    Plywood|  108|\n",
      "|    CemntBd|   61|\n",
      "|    BrkFace|   50|\n",
      "|    WdShing|   26|\n",
      "|     Stucco|   25|\n",
      "|    AsbShng|   20|\n",
      "|      Stone|    2|\n",
      "|    BrkComm|    2|\n",
      "|    AsphShn|    1|\n",
      "|     CBlock|    1|\n",
      "|    ImStucc|    1|\n",
      "+-----------+-----+\n",
      "\n",
      "Exterior2nd\n",
      "+-----------+-----+\n",
      "|Exterior2nd|count|\n",
      "+-----------+-----+\n",
      "|    VinylSd|  504|\n",
      "|    MetalSd|  214|\n",
      "|    HdBoard|  207|\n",
      "|    Wd Sdng|  197|\n",
      "|    Plywood|  142|\n",
      "|    CmentBd|   60|\n",
      "|    Wd Shng|   38|\n",
      "|     Stucco|   26|\n",
      "|    BrkFace|   25|\n",
      "|    AsbShng|   20|\n",
      "|    ImStucc|   10|\n",
      "|    Brk Cmn|    7|\n",
      "|      Stone|    5|\n",
      "|    AsphShn|    3|\n",
      "|      Other|    1|\n",
      "|     CBlock|    1|\n",
      "+-----------+-----+\n",
      "\n",
      "MasVnrType\n",
      "+----------+-----+\n",
      "|MasVnrType|count|\n",
      "+----------+-----+\n",
      "|      None|  864|\n",
      "|   BrkFace|  445|\n",
      "|     Stone|  128|\n",
      "|    BrkCmn|   15|\n",
      "|        NA|    8|\n",
      "+----------+-----+\n",
      "\n",
      "ExterQual\n",
      "+---------+-----+\n",
      "|ExterQual|count|\n",
      "+---------+-----+\n",
      "|       TA|  906|\n",
      "|       Gd|  488|\n",
      "|       Ex|   52|\n",
      "|       Fa|   14|\n",
      "+---------+-----+\n",
      "\n",
      "ExterCond\n",
      "+---------+-----+\n",
      "|ExterCond|count|\n",
      "+---------+-----+\n",
      "|       TA| 1282|\n",
      "|       Gd|  146|\n",
      "|       Fa|   28|\n",
      "|       Ex|    3|\n",
      "|       Po|    1|\n",
      "+---------+-----+\n",
      "\n",
      "Foundation\n",
      "+----------+-----+\n",
      "|Foundation|count|\n",
      "+----------+-----+\n",
      "|     PConc|  647|\n",
      "|    CBlock|  634|\n",
      "|    BrkTil|  146|\n",
      "|      Slab|   24|\n",
      "|     Stone|    6|\n",
      "|      Wood|    3|\n",
      "+----------+-----+\n",
      "\n",
      "BsmtQual\n",
      "+--------+-----+\n",
      "|BsmtQual|count|\n",
      "+--------+-----+\n",
      "|      TA|  649|\n",
      "|      Gd|  618|\n",
      "|      Ex|  121|\n",
      "|      NA|   37|\n",
      "|      Fa|   35|\n",
      "+--------+-----+\n",
      "\n",
      "BsmtCond\n",
      "+--------+-----+\n",
      "|BsmtCond|count|\n",
      "+--------+-----+\n",
      "|      TA| 1311|\n",
      "|      Gd|   65|\n",
      "|      Fa|   45|\n",
      "|      NA|   37|\n",
      "|      Po|    2|\n",
      "+--------+-----+\n",
      "\n",
      "BsmtExposure\n",
      "+------------+-----+\n",
      "|BsmtExposure|count|\n",
      "+------------+-----+\n",
      "|          No|  953|\n",
      "|          Av|  221|\n",
      "|          Gd|  134|\n",
      "|          Mn|  114|\n",
      "|          NA|   38|\n",
      "+------------+-----+\n",
      "\n",
      "BsmtFinType1\n",
      "+------------+-----+\n",
      "|BsmtFinType1|count|\n",
      "+------------+-----+\n",
      "|         Unf|  430|\n",
      "|         GLQ|  418|\n",
      "|         ALQ|  220|\n",
      "|         BLQ|  148|\n",
      "|         Rec|  133|\n",
      "|         LwQ|   74|\n",
      "|          NA|   37|\n",
      "+------------+-----+\n",
      "\n",
      "BsmtFinType2\n",
      "+------------+-----+\n",
      "|BsmtFinType2|count|\n",
      "+------------+-----+\n",
      "|         Unf| 1256|\n",
      "|         Rec|   54|\n",
      "|         LwQ|   46|\n",
      "|          NA|   38|\n",
      "|         BLQ|   33|\n",
      "|         ALQ|   19|\n",
      "|         GLQ|   14|\n",
      "+------------+-----+\n",
      "\n",
      "HeatingQC\n",
      "+---------+-----+\n",
      "|HeatingQC|count|\n",
      "+---------+-----+\n",
      "|       Ex|  741|\n",
      "|       TA|  428|\n",
      "|       Gd|  241|\n",
      "|       Fa|   49|\n",
      "|       Po|    1|\n",
      "+---------+-----+\n",
      "\n",
      "CentralAir\n",
      "+----------+-----+\n",
      "|CentralAir|count|\n",
      "+----------+-----+\n",
      "|         Y| 1365|\n",
      "|         N|   95|\n",
      "+----------+-----+\n",
      "\n",
      "Electrical\n",
      "+----------+-----+\n",
      "|Electrical|count|\n",
      "+----------+-----+\n",
      "|     SBrkr| 1334|\n",
      "|     FuseA|   94|\n",
      "|     FuseF|   27|\n",
      "|     FuseP|    3|\n",
      "|       Mix|    1|\n",
      "|        NA|    1|\n",
      "+----------+-----+\n",
      "\n",
      "KitchenQual\n",
      "+-----------+-----+\n",
      "|KitchenQual|count|\n",
      "+-----------+-----+\n",
      "|         TA|  735|\n",
      "|         Gd|  586|\n",
      "|         Ex|  100|\n",
      "|         Fa|   39|\n",
      "+-----------+-----+\n",
      "\n",
      "Functional\n",
      "+----------+-----+\n",
      "|Functional|count|\n",
      "+----------+-----+\n",
      "|       Typ| 1360|\n",
      "|      Min2|   34|\n",
      "|      Min1|   31|\n",
      "|       Mod|   15|\n",
      "|      Maj1|   14|\n",
      "|      Maj2|    5|\n",
      "|       Sev|    1|\n",
      "+----------+-----+\n",
      "\n",
      "GarageType\n",
      "+----------+-----+\n",
      "|GarageType|count|\n",
      "+----------+-----+\n",
      "|    Attchd|  870|\n",
      "|    Detchd|  387|\n",
      "|   BuiltIn|   88|\n",
      "|        NA|   81|\n",
      "|   Basment|   19|\n",
      "|   CarPort|    9|\n",
      "|    2Types|    6|\n",
      "+----------+-----+\n",
      "\n",
      "GarageFinish\n",
      "+------------+-----+\n",
      "|GarageFinish|count|\n",
      "+------------+-----+\n",
      "|         Unf|  605|\n",
      "|         RFn|  422|\n",
      "|         Fin|  352|\n",
      "|          NA|   81|\n",
      "+------------+-----+\n",
      "\n",
      "GarageQual\n",
      "+----------+-----+\n",
      "|GarageQual|count|\n",
      "+----------+-----+\n",
      "|        TA| 1311|\n",
      "|        NA|   81|\n",
      "|        Fa|   48|\n",
      "|        Gd|   14|\n",
      "|        Ex|    3|\n",
      "|        Po|    3|\n",
      "+----------+-----+\n",
      "\n",
      "GarageCond\n",
      "+----------+-----+\n",
      "|GarageCond|count|\n",
      "+----------+-----+\n",
      "|        TA| 1326|\n",
      "|        NA|   81|\n",
      "|        Fa|   35|\n",
      "|        Gd|    9|\n",
      "|        Po|    7|\n",
      "|        Ex|    2|\n",
      "+----------+-----+\n",
      "\n",
      "PavedDrive\n",
      "+----------+-----+\n",
      "|PavedDrive|count|\n",
      "+----------+-----+\n",
      "|         Y| 1340|\n",
      "|         N|   90|\n",
      "|         P|   30|\n",
      "+----------+-----+\n",
      "\n",
      "SaleType\n",
      "+--------+-----+\n",
      "|SaleType|count|\n",
      "+--------+-----+\n",
      "|      WD| 1267|\n",
      "|     New|  122|\n",
      "|     COD|   43|\n",
      "|   ConLD|    9|\n",
      "|   ConLw|    5|\n",
      "|   ConLI|    5|\n",
      "|     CWD|    4|\n",
      "|     Oth|    3|\n",
      "|     Con|    2|\n",
      "+--------+-----+\n",
      "\n",
      "SaleCondition\n",
      "+-------------+-----+\n",
      "|SaleCondition|count|\n",
      "+-------------+-----+\n",
      "|       Normal| 1198|\n",
      "|      Partial|  125|\n",
      "|      Abnorml|  101|\n",
      "|       Family|   20|\n",
      "|       Alloca|   12|\n",
      "|      AdjLand|    4|\n",
      "+-------------+-----+\n",
      "\n"
     ]
    }
   ],
   "source": [
    "for cat_col in categoric_cols:\n",
    "    print(cat_col)\n",
    "    df1.groupBy(cat_col).count().orderBy(F.desc(\"count\")).show()\n"
   ]
  },
  {
   "cell_type": "code",
   "execution_count": 44,
   "id": "c9930931",
   "metadata": {},
   "outputs": [],
   "source": [
    "binary_cat_cols = ['Street', 'CentralAir']"
   ]
  },
  {
   "cell_type": "markdown",
   "id": "bfbb3f5b",
   "metadata": {},
   "source": [
    "## Verwendung von String Indexer und OneHotEncoder zur Verarbeitung kategorialer Attribute"
   ]
  },
  {
   "cell_type": "markdown",
   "id": "92c1c229",
   "metadata": {},
   "source": [
    "### StringIndexer"
   ]
  },
  {
   "cell_type": "code",
   "execution_count": 45,
   "id": "93d948f3",
   "metadata": {},
   "outputs": [],
   "source": [
    "from pyspark.ml.feature import StringIndexer"
   ]
  },
  {
   "cell_type": "code",
   "execution_count": 46,
   "id": "5a67b3e2",
   "metadata": {},
   "outputs": [],
   "source": [
    "# Es wird ein Dictionary erstellt, um `StringIndexer`-Objekte für jede kategoriale Spalte zu speichern und zu konfigurieren. \n",
    "# Diese Objekte werden gesammelt, und die entsprechenden Ausgabespaltennamen werden festgelegt. Für nicht-binäre kategoriale \n",
    "# Spalten werden zusätzlich die Namen für die Eingabe- und Ausgabespalten von `OneHotEncoder` vorbereitet.\n",
    "\n",
    "\n",
    "\n",
    "\n",
    "my_dict = {}\n",
    "\n",
    "string_indexer_objs = []\n",
    "\n",
    "string_indexer_output_names = []\n",
    "\n",
    "ohe_input_names = []\n",
    "\n",
    "ohe_output_names = []\n",
    "\n",
    "for col_name in categoric_cols:\n",
    "    my_dict[col_name+\"_index_obj\"] = StringIndexer() \\\n",
    "    .setHandleInvalid(\"skip\") \\\n",
    "    .setInputCol(col_name) \\\n",
    "    .setOutputCol(col_name+\"_indexed\")\n",
    "\n",
    "\n",
    "    string_indexer_objs.append(my_dict.get(col_name+\"_index_obj\"))\n",
    "    string_indexer_output_names.append(col_name+\"_indexed\")\n",
    "\n",
    "    if col_name not in binary_cat_cols:\n",
    "        ohe_input_names.append(col_name+\"_indexed\")\n",
    "        ohe_output_names.append(col_name+\"_ohe\")\n"
   ]
  },
  {
   "cell_type": "code",
   "execution_count": 47,
   "id": "dc00bfe1",
   "metadata": {},
   "outputs": [
    {
     "name": "stdout",
     "output_type": "stream",
     "text": [
      "[StringIndexer_0fcc050c2601, StringIndexer_48a2dd793dd2, StringIndexer_71abfda13e8e, StringIndexer_572296267594, StringIndexer_f41d4dd82039, StringIndexer_b1508ed0b0b0, StringIndexer_ee9a25d70d15, StringIndexer_c394744e0780, StringIndexer_6eddde81e07c, StringIndexer_3f022c532919, StringIndexer_6fda725b30d4, StringIndexer_e4a0a0c0c46b, StringIndexer_3a33da3aa41f, StringIndexer_459203042149, StringIndexer_68415a12e9d2, StringIndexer_35a148433f7a, StringIndexer_e43927b34b7e, StringIndexer_f0c87e3c0ffe, StringIndexer_ec865f938690, StringIndexer_345651355bf3, StringIndexer_26cd4f0bd910, StringIndexer_6db088f029b3, StringIndexer_8a4b0fadbc08, StringIndexer_2442453c045b, StringIndexer_0e9557d768c9, StringIndexer_f572158a090e, StringIndexer_554133e9c131, StringIndexer_bde2a211ca4f, StringIndexer_21329ad7935d, StringIndexer_ba2563965118, StringIndexer_c096f5cd066a, StringIndexer_c4075795db5f, StringIndexer_f165284ee71c, StringIndexer_ef2311557641]\n",
      "34\n"
     ]
    }
   ],
   "source": [
    "print(string_indexer_objs)\n",
    "print(len(string_indexer_objs))"
   ]
  },
  {
   "cell_type": "code",
   "execution_count": 48,
   "id": "77f6f2a8",
   "metadata": {},
   "outputs": [
    {
     "name": "stdout",
     "output_type": "stream",
     "text": [
      "['MSZoning_indexed', 'Street_indexed', 'LotShape_indexed', 'LandContour_indexed', 'LotConfig_indexed', 'LandSlope_indexed', 'Neighborhood_indexed', 'Condition1_indexed', 'BldgType_indexed', 'HouseStyle_indexed', 'RoofStyle_indexed', 'Exterior1st_indexed', 'Exterior2nd_indexed', 'MasVnrType_indexed', 'ExterQual_indexed', 'ExterCond_indexed', 'Foundation_indexed', 'BsmtQual_indexed', 'BsmtCond_indexed', 'BsmtExposure_indexed', 'BsmtFinType1_indexed', 'BsmtFinType2_indexed', 'HeatingQC_indexed', 'CentralAir_indexed', 'Electrical_indexed', 'KitchenQual_indexed', 'Functional_indexed', 'GarageType_indexed', 'GarageFinish_indexed', 'GarageQual_indexed', 'GarageCond_indexed', 'PavedDrive_indexed', 'SaleType_indexed', 'SaleCondition_indexed']\n",
      "34\n"
     ]
    }
   ],
   "source": [
    "print(string_indexer_output_names)\n",
    "print(len(string_indexer_output_names))"
   ]
  },
  {
   "cell_type": "code",
   "execution_count": 49,
   "id": "41ccac60",
   "metadata": {},
   "outputs": [
    {
     "name": "stdout",
     "output_type": "stream",
     "text": [
      "['MSZoning_indexed', 'LotShape_indexed', 'LandContour_indexed', 'LotConfig_indexed', 'LandSlope_indexed', 'Neighborhood_indexed', 'Condition1_indexed', 'BldgType_indexed', 'HouseStyle_indexed', 'RoofStyle_indexed', 'Exterior1st_indexed', 'Exterior2nd_indexed', 'MasVnrType_indexed', 'ExterQual_indexed', 'ExterCond_indexed', 'Foundation_indexed', 'BsmtQual_indexed', 'BsmtCond_indexed', 'BsmtExposure_indexed', 'BsmtFinType1_indexed', 'BsmtFinType2_indexed', 'HeatingQC_indexed', 'Electrical_indexed', 'KitchenQual_indexed', 'Functional_indexed', 'GarageType_indexed', 'GarageFinish_indexed', 'GarageQual_indexed', 'GarageCond_indexed', 'PavedDrive_indexed', 'SaleType_indexed', 'SaleCondition_indexed']\n",
      "32\n"
     ]
    }
   ],
   "source": [
    "print(ohe_input_names)\n",
    "print(len(ohe_input_names))"
   ]
  },
  {
   "cell_type": "code",
   "execution_count": 50,
   "id": "95f2c327",
   "metadata": {},
   "outputs": [
    {
     "name": "stdout",
     "output_type": "stream",
     "text": [
      "['MSZoning_ohe', 'LotShape_ohe', 'LandContour_ohe', 'LotConfig_ohe', 'LandSlope_ohe', 'Neighborhood_ohe', 'Condition1_ohe', 'BldgType_ohe', 'HouseStyle_ohe', 'RoofStyle_ohe', 'Exterior1st_ohe', 'Exterior2nd_ohe', 'MasVnrType_ohe', 'ExterQual_ohe', 'ExterCond_ohe', 'Foundation_ohe', 'BsmtQual_ohe', 'BsmtCond_ohe', 'BsmtExposure_ohe', 'BsmtFinType1_ohe', 'BsmtFinType2_ohe', 'HeatingQC_ohe', 'Electrical_ohe', 'KitchenQual_ohe', 'Functional_ohe', 'GarageType_ohe', 'GarageFinish_ohe', 'GarageQual_ohe', 'GarageCond_ohe', 'PavedDrive_ohe', 'SaleType_ohe', 'SaleCondition_ohe']\n",
      "32\n"
     ]
    }
   ],
   "source": [
    "print(ohe_output_names)\n",
    "print(len(ohe_output_names))"
   ]
  },
  {
   "cell_type": "markdown",
   "id": "c2353c12",
   "metadata": {},
   "source": [
    "## Zusammenführung der Eingabemerkmale mit VectorAssembler, Scaler und Estimator"
   ]
  },
  {
   "cell_type": "markdown",
   "id": "f54eaaa1",
   "metadata": {},
   "source": [
    "### OneHotEncoder"
   ]
  },
  {
   "cell_type": "code",
   "execution_count": 51,
   "id": "6635b25f",
   "metadata": {},
   "outputs": [],
   "source": [
    "from pyspark.ml.feature import OneHotEncoder"
   ]
  },
  {
   "cell_type": "markdown",
   "id": "6727f05f",
   "metadata": {},
   "source": [
    "Konfiguration des OneHotEncoders für Eingabe- und Ausgabespalten:"
   ]
  },
  {
   "cell_type": "code",
   "execution_count": 52,
   "id": "fffe4760",
   "metadata": {},
   "outputs": [],
   "source": [
    "encoder = OneHotEncoder() \\\n",
    ".setInputCols(ohe_input_names) \\\n",
    ".setOutputCols(ohe_output_names)"
   ]
  },
  {
   "cell_type": "code",
   "execution_count": 53,
   "id": "72202f4e",
   "metadata": {},
   "outputs": [
    {
     "name": "stdout",
     "output_type": "stream",
     "text": [
      "['Street_indexed', 'CentralAir_indexed']\n"
     ]
    }
   ],
   "source": [
    "# Es gibt zwei Spalten, die mit StringIndexer verarbeitet, aber nicht mit OneHotEncoder kodiert wurden. Diese Spalten müssen \n",
    "# zuerst erfasst werden:\n",
    "\n",
    "not_to_hot_coded = list(set(string_indexer_output_names ).difference(set(ohe_input_names)))\n",
    "print(not_to_hot_coded)"
   ]
  },
  {
   "cell_type": "markdown",
   "id": "8dc6fd31",
   "metadata": {},
   "source": [
    "### VectorAssembler"
   ]
  },
  {
   "cell_type": "code",
   "execution_count": 54,
   "id": "8ee43b7a",
   "metadata": {},
   "outputs": [],
   "source": [
    "from pyspark.ml.feature import VectorAssembler"
   ]
  },
  {
   "cell_type": "markdown",
   "id": "9a4d9add",
   "metadata": {},
   "source": [
    "Konfiguration des VectorAssemblers zur Zusammenführung von Merkmalen:"
   ]
  },
  {
   "cell_type": "code",
   "execution_count": 55,
   "id": "e1e38e13",
   "metadata": {},
   "outputs": [],
   "source": [
    "assembler = VectorAssembler() \\\n",
    ".setHandleInvalid(\"skip\") \\\n",
    ".setInputCols(numeric_cols+ not_to_hot_coded+ ohe_output_names) \\\n",
    ".setOutputCol(\"unscaled_features\")"
   ]
  },
  {
   "cell_type": "markdown",
   "id": "dcccd7e9",
   "metadata": {},
   "source": [
    "### Feature Scaling"
   ]
  },
  {
   "cell_type": "code",
   "execution_count": 56,
   "id": "22295a3e",
   "metadata": {},
   "outputs": [],
   "source": [
    "from pyspark.ml.feature import StandardScaler"
   ]
  },
  {
   "cell_type": "markdown",
   "id": "aef48786",
   "metadata": {},
   "source": [
    "Konfiguration des StandardScalers zur Skalierung der Merkmale:"
   ]
  },
  {
   "cell_type": "code",
   "execution_count": 57,
   "id": "edaf4241",
   "metadata": {},
   "outputs": [],
   "source": [
    "scaler = StandardScaler() \\\n",
    ".setInputCol(\"unscaled_features\") \\\n",
    ".setOutputCol(\"features\")"
   ]
  },
  {
   "cell_type": "markdown",
   "id": "985d28f6",
   "metadata": {},
   "source": [
    "### Estimator"
   ]
  },
  {
   "cell_type": "code",
   "execution_count": 58,
   "id": "04e20d39",
   "metadata": {},
   "outputs": [],
   "source": [
    "from pyspark.ml.regression import GBTRegressor\n",
    "\n",
    "\n",
    "# Konfiguration des GBTRegressor mit der Zielspalte:\n",
    "estimator = GBTRegressor(labelCol = label_col[0])"
   ]
  },
  {
   "cell_type": "markdown",
   "id": "90942517",
   "metadata": {},
   "source": [
    "## Erstellung der ML-Pipeline, Modelltraining, -test und -bewertung\n"
   ]
  },
  {
   "cell_type": "markdown",
   "id": "37503f0e",
   "metadata": {},
   "source": [
    "\n",
    "### Pipeline"
   ]
  },
  {
   "cell_type": "code",
   "execution_count": 59,
   "id": "bf3bb199",
   "metadata": {},
   "outputs": [],
   "source": [
    "from pyspark.ml import Pipeline"
   ]
  },
  {
   "cell_type": "markdown",
   "id": "9afb7f5a",
   "metadata": {},
   "source": [
    "Erstellung der Pipeline mit den definierten Stufen:"
   ]
  },
  {
   "cell_type": "code",
   "execution_count": 60,
   "id": "299bd8f2",
   "metadata": {},
   "outputs": [],
   "source": [
    "pipeline_obj = Pipeline().setStages(string_indexer_objs + [encoder, assembler, scaler, estimator])"
   ]
  },
  {
   "cell_type": "markdown",
   "id": "67ac1036",
   "metadata": {},
   "source": [
    "### Split Dataset"
   ]
  },
  {
   "cell_type": "code",
   "execution_count": 61,
   "id": "7f8dd530",
   "metadata": {},
   "outputs": [],
   "source": [
    "train_df, test_df = df1.randomSplit([.8, .2], seed =142)"
   ]
  },
  {
   "cell_type": "code",
   "execution_count": 62,
   "id": "5d836834",
   "metadata": {},
   "outputs": [
    {
     "data": {
      "text/plain": [
       "1163"
      ]
     },
     "execution_count": 62,
     "metadata": {},
     "output_type": "execute_result"
    }
   ],
   "source": [
    "train_df.count()"
   ]
  },
  {
   "cell_type": "code",
   "execution_count": 63,
   "id": "71bc8efd",
   "metadata": {},
   "outputs": [
    {
     "data": {
      "text/plain": [
       "297"
      ]
     },
     "execution_count": 63,
     "metadata": {},
     "output_type": "execute_result"
    }
   ],
   "source": [
    "test_df.count() "
   ]
  },
  {
   "cell_type": "markdown",
   "id": "c9d3f798",
   "metadata": {},
   "source": [
    "### Train Model"
   ]
  },
  {
   "cell_type": "code",
   "execution_count": 64,
   "id": "aefd7bf2",
   "metadata": {},
   "outputs": [
    {
     "name": "stderr",
     "output_type": "stream",
     "text": [
      "                                                                                \r"
     ]
    }
   ],
   "source": [
    "pipeline_model = pipeline_obj.fit(train_df)"
   ]
  },
  {
   "cell_type": "markdown",
   "id": "42e12003",
   "metadata": {},
   "source": [
    "### Prediction"
   ]
  },
  {
   "cell_type": "code",
   "execution_count": 65,
   "id": "84633930",
   "metadata": {},
   "outputs": [
    {
     "name": "stdout",
     "output_type": "stream",
     "text": [
      "+---------+------------------+\n",
      "|SalePrice|        prediction|\n",
      "+---------+------------------+\n",
      "|   140000|166418.00194302486|\n",
      "|   129900| 186938.8536276622|\n",
      "|   129500| 145038.8401122167|\n",
      "|   157000|150866.06806781224|\n",
      "|   154000| 156686.9315937667|\n",
      "|   207500|189485.31450506533|\n",
      "|   165500|158250.67025043225|\n",
      "|   160000|  152051.549367772|\n",
      "|   239686| 339009.4308244648|\n",
      "|   127000|120698.47175147035|\n",
      "|   110000| 94470.79060351106|\n",
      "|   385000|  794776.825576351|\n",
      "|   101000| 83558.52498552404|\n",
      "|   245000| 231726.6914173506|\n",
      "|   260000| 284801.2000961671|\n",
      "|   204750|195432.63382324998|\n",
      "|   214000|230876.43925416976|\n",
      "|   198900|194057.01214842233|\n",
      "|   169500| 177679.2237630042|\n",
      "|   180000|150103.03444576386|\n",
      "+---------+------------------+\n",
      "only showing top 20 rows\n",
      "\n"
     ]
    }
   ],
   "source": [
    "transformed_df = pipeline_model.transform(test_df)\n",
    "\n",
    "transformed_df.select(\"SalePrice\", \"prediction\").show()"
   ]
  },
  {
   "cell_type": "markdown",
   "id": "5884e235",
   "metadata": {},
   "source": [
    "### Evaluate Model"
   ]
  },
  {
   "cell_type": "code",
   "execution_count": 66,
   "id": "835182cb",
   "metadata": {},
   "outputs": [],
   "source": [
    "from pyspark.ml.evaluation import RegressionEvaluator"
   ]
  },
  {
   "cell_type": "markdown",
   "id": "433c63a5",
   "metadata": {},
   "source": [
    "Konfiguration des RegressionEvaluators zur Bewertung des Modells und Berechnung des R²-Scores:"
   ]
  },
  {
   "cell_type": "code",
   "execution_count": 67,
   "id": "44f910c9",
   "metadata": {},
   "outputs": [
    {
     "data": {
      "text/plain": [
       "0.7133529989253724"
      ]
     },
     "execution_count": 67,
     "metadata": {},
     "output_type": "execute_result"
    }
   ],
   "source": [
    "evaluator = RegressionEvaluator(labelCol=label_col[0], metricName='r2')\n",
    "\n",
    "evaluator.evaluate(transformed_df)"
   ]
  },
  {
   "cell_type": "code",
   "execution_count": null,
   "id": "e130b14c",
   "metadata": {},
   "outputs": [],
   "source": []
  }
 ],
 "metadata": {
  "kernelspec": {
   "display_name": "Python 3 (ipykernel)",
   "language": "python",
   "name": "python3"
  },
  "language_info": {
   "codemirror_mode": {
    "name": "ipython",
    "version": 3
   },
   "file_extension": ".py",
   "mimetype": "text/x-python",
   "name": "python",
   "nbconvert_exporter": "python",
   "pygments_lexer": "ipython3",
   "version": "3.10.13"
  }
 },
 "nbformat": 4,
 "nbformat_minor": 5
}
